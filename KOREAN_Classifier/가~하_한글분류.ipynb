{
 "cells": [
  {
   "cell_type": "code",
   "execution_count": 13,
   "metadata": {},
   "outputs": [],
   "source": [
    "import numpy as np\n",
    "import matplotlib.pyplot as plt\n",
    "import torch\n",
    "import torch.nn as nn\n",
    "import torch.optim as optim\n",
    "import torch.nn.functional as F\n",
    "import torchvision\n",
    "from torchvision import transforms, transforms, utils\n",
    "from torch.utils import data\n",
    "from torch.utils.data import  Dataset, DataLoader\n",
    "import pandas as pd"
   ]
  },
  {
   "cell_type": "code",
   "execution_count": 170,
   "metadata": {},
   "outputs": [],
   "source": [
    "#CNN모델 구현 \n",
    "#(컨볼루션 -> 풀링)*4 -> 드롭아웃 -> 풀링 -> 신경망 -> 드롭아웃 -> 신경망\n",
    "#CNN모델의 커널 크기는 5*5 / 컨볼루션 계층은 2개 \n",
    "\n",
    "#라이브러리 로드 \n",
    "import torch\n",
    "import torch.nn as nn\n",
    "import torch.optim as optim\n",
    "import torch.nn.functional as F\n",
    "from torchvision import transforms, datasets\n",
    "\n",
    "#쿠다 사용환경 설정\n",
    "USE_CUDA = torch.cuda.is_available()\n",
    "DEVICE = torch.device(\"cuda\" if USE_CUDA else \"cpu\")\n",
    "\n",
    "#하이퍼파라미터 설정\n",
    "EPOCHS = 35\n",
    "BATCH_SIZE = 4\n",
    "\n",
    "#전자정보연구정보센터의 이미지 데이터셋 로드\n",
    "#데이터의 양이 너무 적어 기존데이터의 증식 후, Augmentation을 이용하고자 \n",
    "#입력각도로 랜덤하게 회전시키는 RandomRotation, 센터의 아핀을 변환시키는 RandomAffine 이용\n",
    "#그 후, 텐서화와 정규화를 위해 데이터의 평균과 표준편차를 입력 \n",
    "\n",
    "transformer = transforms.Compose([transforms.Resize((92, 92)),\n",
    "#                                    transforms.RandomHorizontalFlip(),\n",
    "                                   transforms.RandomRotation(10),\n",
    "                                   transforms.RandomAffine(0, shear=10, scale=(0.8, 1.2)),\n",
    "                                  transforms.ToTensor(),\n",
    "                                  transforms.Normalize((0.9758,),(0.0678,))\n",
    "                                 ])\n",
    "\n",
    "\n",
    "trainset = torchvision.datasets.ImageFolder(root = './set 02/char_data/train', \n",
    "                                           transform = transformer)\n",
    "testset = torchvision.datasets.ImageFolder(root = './set 02/char_data/test',\n",
    "                                          transform = transformer)"
   ]
  },
  {
   "cell_type": "code",
   "execution_count": 159,
   "metadata": {},
   "outputs": [],
   "source": [
    "train_loader = DataLoader (trainset, batch_size = BATCH_SIZE, shuffle = True)\n",
    "test_loader = DataLoader(testset, batch_size = BATCH_SIZE, shuffle = True)"
   ]
  },
  {
   "cell_type": "code",
   "execution_count": 160,
   "metadata": {},
   "outputs": [
    {
     "name": "stdout",
     "output_type": "stream",
     "text": [
      "984\n"
     ]
    }
   ],
   "source": [
    "print(len(train_loader))"
   ]
  },
  {
   "cell_type": "code",
   "execution_count": 161,
   "metadata": {},
   "outputs": [
    {
     "data": {
      "text/plain": [
       "(tensor([[[-14.3923, -14.3923, -14.3923,  ..., -14.3923, -14.3923, -14.3923],\n",
       "          [-14.3923, -14.3923, -14.3923,  ..., -14.3923, -14.3923, -14.3923],\n",
       "          [-14.3923, -14.3923, -14.3923,  ..., -14.3923, -14.3923, -14.3923],\n",
       "          ...,\n",
       "          [-14.3923, -14.3923, -14.3923,  ..., -14.3923, -14.3923, -14.3923],\n",
       "          [-14.3923, -14.3923, -14.3923,  ..., -14.3923, -14.3923, -14.3923],\n",
       "          [-14.3923, -14.3923, -14.3923,  ..., -14.3923, -14.3923, -14.3923]],\n",
       " \n",
       "         [[-14.3923, -14.3923, -14.3923,  ..., -14.3923, -14.3923, -14.3923],\n",
       "          [-14.3923, -14.3923, -14.3923,  ..., -14.3923, -14.3923, -14.3923],\n",
       "          [-14.3923, -14.3923, -14.3923,  ..., -14.3923, -14.3923, -14.3923],\n",
       "          ...,\n",
       "          [-14.3923, -14.3923, -14.3923,  ..., -14.3923, -14.3923, -14.3923],\n",
       "          [-14.3923, -14.3923, -14.3923,  ..., -14.3923, -14.3923, -14.3923],\n",
       "          [-14.3923, -14.3923, -14.3923,  ..., -14.3923, -14.3923, -14.3923]],\n",
       " \n",
       "         [[-14.3923, -14.3923, -14.3923,  ..., -14.3923, -14.3923, -14.3923],\n",
       "          [-14.3923, -14.3923, -14.3923,  ..., -14.3923, -14.3923, -14.3923],\n",
       "          [-14.3923, -14.3923, -14.3923,  ..., -14.3923, -14.3923, -14.3923],\n",
       "          ...,\n",
       "          [-14.3923, -14.3923, -14.3923,  ..., -14.3923, -14.3923, -14.3923],\n",
       "          [-14.3923, -14.3923, -14.3923,  ..., -14.3923, -14.3923, -14.3923],\n",
       "          [-14.3923, -14.3923, -14.3923,  ..., -14.3923, -14.3923, -14.3923]]]),\n",
       " 0)"
      ]
     },
     "execution_count": 161,
     "metadata": {},
     "output_type": "execute_result"
    }
   ],
   "source": [
    "trainset.__getitem__(1)"
   ]
  },
  {
   "cell_type": "code",
   "execution_count": 213,
   "metadata": {},
   "outputs": [],
   "source": [
    "#nn.Conv2d모듈은 입력 x를 받는 함수를 반환한다 ( 자신을 바로 부를 수 있지만 함수로 생각해도 무방)\n",
    "#모델의 학습 정의\n",
    "class CNN(nn.Module):\n",
    "    def __init__(self):\n",
    "        super(CNN, self).__init__()\n",
    "        #입력채널수 = 1, 출력 채널수 =10 ( 데이터셋이 흑백이미지로 색상 채널이 1개뿐)\n",
    "        #kernel_size로 커널 크기 지정 숫자 하나만 지정하면 정사각형으로 간주\n",
    "        self.conv1 = nn.Conv2d(3,20, 5, 1) # 20@88*88 // pool 20@44*44\n",
    "        self.conv2 = nn.Conv2d(20,40, 5, 1) # 40@40*40  // pool 400@20*20\n",
    "        self.conv3 = nn.Conv2d(40, 60, 5, 1) # 60@16*16 // pool 60@8*8\n",
    "        self.conv4 = nn.Conv2d(60, 80, 5, 1) # 80@4*4 // pool 80@2*2\n",
    "        #컨볼루션 결과로 나온 출력값에 드롭아웃 \n",
    "        self.drop = nn.Dropout2d()\n",
    "        #일반신경망\n",
    "        #위 계층의 출력값인 80*2*2를 입력 받고 \n",
    "        #최종 출력을 분류할 클래스 개수인 14개로 설정\n",
    "        self.fc1 = nn.Linear(80*2*2,80)\n",
    "        self.fc4 = nn.Linear(80,14)\n",
    "        \n",
    "    #출력까지 진행\n",
    "    def forward(self, x):\n",
    "        #두개의 각 컨볼루션 계층을 거친 후, max_pool2d 함수 거치기 / 두번째 입력은 커널 크기\n",
    "        #컨볼루션과 맥스 풀링을 통과한 x는 F.relu함수를 거친다. \n",
    "        x = F.relu(F.max_pool2d(self.conv1(x), 2))\n",
    "        x = F.relu(F.max_pool2d(self.conv2(x), 2))\n",
    "        x = F.relu(F.max_pool2d(self.conv3(x), 2))\n",
    "        x = F.relu(F.max_pool2d(self.conv4(x), 2))\n",
    "        #2차원의 특징맵을 바로 입력으로 넣을 수 없어 1차원으로 변환(축소)\n",
    "        #view()의 첫 입력 -1은 '남는 모든 차원', 80*2*2은 x가 가진 원소갯수\n",
    "        x = x.view(-1, 80*2*2)\n",
    "        #앞서 추출한 특징들을 입력으로 받아 분류하는 신경망 계층 구성( 1- ReLu활성화함수 2- 드롭아웃, 3- 0~13레이블)\n",
    "        x = F.relu(self.fc1(x))\n",
    "        x = self.drop(x)\n",
    "        x = self.fc2(x)\n",
    "        return F.log_softmax(x, dim = 1)"
   ]
  },
  {
   "cell_type": "code",
   "execution_count": 165,
   "metadata": {},
   "outputs": [],
   "source": [
    "#`to()` 함수는 모델의 파라미터들을 지정한 곳으로 보내는 역할을 한다. 일반적으로 CPU 1개만 사용할 경우 필요는 없지만, GPU를 사용하고자 하는 경우 `to(\"cuda\")`로 지정하여 GPU로 보내야 한다.\n",
    "# 최적화 알고리즘으로는 토치에 내장되어 있는 `optim.SGD`(확률적 경사하강법)와 'optim.Adma' 중 성능이 더 좋은 Adam을 최종선택 \n",
    "\n",
    "model     = CNN().to(DEVICE)\n",
    "# optimizer = optim.SGD(model.parameters(), lr=0.0001, momentum=0.5)\n",
    "optimizer = optim.Adam(model.parameters(), lr=0.001)"
   ]
  },
  {
   "cell_type": "code",
   "execution_count": 166,
   "metadata": {},
   "outputs": [],
   "source": [
    "#모델 train모드, F.corss_entropy오차 함수를 이용하여 모델 출력과 정답인 타겟값 사이 오차 계산\n",
    "#역전파 알고리즘을 실행해주는 loss.backward()함수를 이용해 기울기 계산 후, optimizer.step() 최적화 함수로 구한 기울기값으로 학습 파라미터 갱신\n",
    "\n",
    "def train(model, train_loader, optimizer, epoch):\n",
    "    model.train()\n",
    "    for batch_idx, (data, target) in enumerate(train_loader):\n",
    "        data, target = data.to(DEVICE), target.to(DEVICE)\n",
    "         #epoch마다 새로운 경사값을 계산하므로 zero_grad()함수를 호출해 경사를 0으로 설정\n",
    "        optimizer.zero_grad()\n",
    "        output = model(data)\n",
    "        loss = F.cross_entropy(output ,target)\n",
    "        loss.backward()\n",
    "        optimizer.step()\n",
    "        \n",
    "#         if epoch % 10 == 0:\n",
    "#             print('Train Epoch : {} [{}/{} ({}%)]\\t Loss :{}'.format\n",
    "#                  (epoch ,batch_idx*len(data), len(train_loader.dataset), 100.*batch_idx/len(train_loader), loss.item()))\n",
    "            "
   ]
  },
  {
   "cell_type": "code",
   "execution_count": 167,
   "metadata": {},
   "outputs": [],
   "source": [
    "#성능 확인\n",
    "\n",
    "def evaluate(model, test_loader):\n",
    "    model.eval()\n",
    "    #초기값 설정\n",
    "    test_loss = 0\n",
    "    correct = 0\n",
    "    with torch.no_grad():\n",
    "        for data, target in test_loader:\n",
    "            data, target = data.to(DEVICE), target.to(DEVICE)\n",
    "            output = model(data)\n",
    "            \n",
    "            #배치 오차 합산\n",
    "            test_loss += F.cross_entropy(output, target, reduction='sum').item()\n",
    "            \n",
    "            #가장 높은 값을 가진 인덱스가 예측값\n",
    "            pred = output.max(1, keepdim = True)[1]\n",
    "            correct += pred.eq(target.view_as(pred)).sum().item()\n",
    "            \n",
    "    test_loss /= len(test_loader.dataset)\n",
    "    test_accuracy = 100* correct / len(test_loader.dataset)\n",
    "    return test_loss, test_accuracy    "
   ]
  },
  {
   "cell_type": "code",
   "execution_count": 171,
   "metadata": {},
   "outputs": [
    {
     "name": "stdout",
     "output_type": "stream",
     "text": [
      "[5] Test LOSS : 0.8565666174498509, Accuracy : 83.87755102040816\n",
      "[10] Test LOSS : 1.2590056559238463, Accuracy : 79.79591836734694\n",
      "[15] Test LOSS : 1.0172635723316525, Accuracy : 81.83673469387755\n",
      "[20] Test LOSS : 1.2544254170468443, Accuracy : 83.06122448979592\n",
      "[25] Test LOSS : 1.0418279666399406, Accuracy : 84.79591836734694\n",
      "[30] Test LOSS : 1.4658559442566794, Accuracy : 85.20408163265306\n",
      "[35] Test LOSS : 1.2491411545455815, Accuracy : 86.3265306122449\n"
     ]
    }
   ],
   "source": [
    "#학습\n",
    "for epoch in range(1, EPOCHS +1):\n",
    "    train(model, train_loader, optimizer, epoch)\n",
    "    test_loss, test_accuracy = evaluate(model, test_loader)\n",
    "    \n",
    "    if epoch % 5 ==0:\n",
    "        print('[{}] Test LOSS : {}, Accuracy : {}'.format(epoch, test_loss, test_accuracy))"
   ]
  },
  {
   "cell_type": "code",
   "execution_count": 205,
   "metadata": {},
   "outputs": [],
   "source": [
    "#실제 성능 테스트\n",
    "#학습 정확도가 86퍼센트로 처음 33퍼센트에 비해 53퍼나 향상되었음.\n",
    "#테스트 셋의 이미지를 통해 실제로 예측을 어느정도하는지 확인 \n",
    "\n",
    "#토치 데이터셋에서 unnormalize, numpy배열로 변환을 하여 이미지 출력을 할 수 있게\n",
    "#imshow 함수와 tesor(0~13)으로 되어있는 정답 레이블을 표현할 수 있게 classes 정의 \n",
    "def imshow(img):\n",
    "    img = img + 0.9758     # unnormalize\n",
    "    npimg = img.numpy()\n",
    "    plt.imshow(np.transpose(npimg, (1, 2, 0)))\n",
    "    \n",
    "classes = ('AC00: 가', 'B2E4 : 다', 'B9C8 : 마', 'B77C : 라', 'B098 : 나', 'BC14 : 바','C0AC : 사', 'C544 : 아', 'C790 : 자',  \n",
    "          'CC28 : 차', 'CE74 : 카', 'D0C0 : 타',  'D30C : 파', 'D558 : 하' )"
   ]
  },
  {
   "cell_type": "code",
   "execution_count": 208,
   "metadata": {},
   "outputs": [
    {
     "name": "stderr",
     "output_type": "stream",
     "text": [
      "Clipping input data to the valid range for imshow with RGB data ([0..1] for floats or [0..255] for integers).\n"
     ]
    },
    {
     "name": "stdout",
     "output_type": "stream",
     "text": [
      "C0AC : 사 / B77C : 라 / AC00: 가 / D30C : 파\n"
     ]
    },
    {
     "data": {
      "image/png": "[encoded data removed]",
      "text/plain": [
       "<Figure size 432x288 with 1 Axes>"
      ]
     },
     "metadata": {
      "needs_background": "light"
     },
     "output_type": "display_data"
    }
   ],
   "source": [
    "#테스트 데이터에서 무작위 1배치 추출하여\n",
    "#정답과 이미지 출력\n",
    "dataiter = iter(test_loader)\n",
    "images, labels = dataiter.next()\n",
    "\n",
    "imshow(torchvision.utils.make_grid(images))\n",
    "print(' / '.join('%5s' % classes[labels[j]] for j in range(4)))\n",
    "plt.show()"
   ]
  },
  {
   "cell_type": "code",
   "execution_count": 212,
   "metadata": {},
   "outputs": [
    {
     "name": "stdout",
     "output_type": "stream",
     "text": [
      "Predicted:  C0AC : 사 / B77C : 라 / AC00: 가 / D30C : 파\n"
     ]
    }
   ],
   "source": [
    "#에측결과\n",
    "outputs = model(images)\n",
    "\n",
    "_, predicted = torch.max(outputs, 1)\n",
    "\n",
    "print('Predicted: ', ' / '.join('%5s' % classes[predicted[j]] for j in range(4)))"
   ]
  },
  {
   "cell_type": "code",
   "execution_count": null,
   "metadata": {},
   "outputs": [],
   "source": []
  }
 ],
 "metadata": {
  "kernelspec": {
   "display_name": "Python 3",
   "language": "python",
   "name": "python3"
  },
  "language_info": {
   "codemirror_mode": {
    "name": "ipython",
    "version": 3
   },
   "file_extension": ".py",
   "mimetype": "text/x-python",
   "name": "python",
   "nbconvert_exporter": "python",
   "pygments_lexer": "ipython3",
   "version": "3.8.1"
  }
 },
 "nbformat": 4,
 "nbformat_minor": 4
}

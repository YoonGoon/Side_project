{
 "cells": [
  {
   "cell_type": "code",
   "execution_count": 4,
   "metadata": {},
   "outputs": [],
   "source": [
    "#CNN모델 구현 \n",
    "#(컨볼루션 -> 풀링)*4 -> 드롭아웃 -> 풀링 -> 신경망 -> 드롭아웃 -> 신경망\n",
    "#CNN모델의 커널 크기는 5*5 / 컨볼루션 계층은 2개 \n",
    "\n",
    "#라이브러리 로드 \n",
    "import torch\n",
    "import torch.nn as nn\n",
    "import torch.optim as optim\n",
    "import torch.nn.functional as F\n",
    "from torchvision import transforms, datasets\n",
    "import numpy as np\n",
    "import matplotlib.pyplot as plt\n",
    "import torchvision\n",
    "from torchvision import transforms, transforms, utils\n",
    "from torch.utils import data\n",
    "from torch.utils.data import  Dataset, DataLoader\n",
    "import pandas as pd\n",
    "\n",
    "#쿠다 사용환경 설정\n",
    "USE_CUDA = torch.cuda.is_available()\n",
    "DEVICE = torch.device(\"cuda\" if USE_CUDA else \"cpu\")\n",
    "\n",
    "#하이퍼파라미터 설정\n",
    "EPOCHS = 100\n",
    "BATCH_SIZE = 4\n",
    "\n",
    "#전자정보연구정보센터의 이미지 데이터셋 로드\n",
    "#데이터의 양이 너무 적어 기존데이터의 증식 후, Augmentation을 이용하고자 \n",
    "#입력각도로 랜덤하게 회전시키는 RandomRotation, 센터의 아핀을 변환시키는 RandomAffine 이용\n",
    "#그 후, 텐서화와 정규화를 위해 데이터의 평균과 표준편차를 입력 \n",
    "\n",
    "transformer = transforms.Compose([transforms.Resize((92, 92)),\n",
    "#                                    transforms.RandomHorizontalFlip(),좌우반전은 글자의 의미를 퇴색시켜 오히려 학습에 방해하는 요소로 판단(정확도가 더 낮아짐)\n",
    "                                   transforms.RandomRotation(10),\n",
    "                                   transforms.RandomAffine(0, shear=10, scale=(0.8, 1.2)),\n",
    "                                  transforms.ToTensor(),\n",
    "                                  transforms.Normalize((0.9758,),(0.0678,))\n",
    "                                 ])\n",
    "\n",
    "\n",
    "trainset = torchvision.datasets.ImageFolder(root = './set 02/char_data/train', \n",
    "                                           transform = transformer)\n",
    "testset = torchvision.datasets.ImageFolder(root = './set 02/char_data/test',\n",
    "                                          transform = transformer)"
   ]
  },
  {
   "cell_type": "code",
   "execution_count": 6,
   "metadata": {},
   "outputs": [],
   "source": [
    "train_loader = DataLoader (trainset, batch_size = BATCH_SIZE, shuffle = True)\n",
    "test_loader = DataLoader(testset, batch_size = BATCH_SIZE, shuffle = True)"
   ]
  },
  {
   "cell_type": "code",
   "execution_count": 7,
   "metadata": {},
   "outputs": [
    {
     "name": "stdout",
     "output_type": "stream",
     "text": [
      "984\n"
     ]
    }
   ],
   "source": [
    "print(len(train_loader))"
   ]
  },
  {
   "cell_type": "code",
   "execution_count": 8,
   "metadata": {},
   "outputs": [
    {
     "data": {
      "text/plain": [
       "(tensor([[[-14.3923, -14.3923, -14.3923,  ..., -14.3923, -14.3923, -14.3923],\n",
       "          [-14.3923, -14.3923, -14.3923,  ..., -14.3923, -14.3923, -14.3923],\n",
       "          [-14.3923, -14.3923, -14.3923,  ..., -14.3923, -14.3923, -14.3923],\n",
       "          ...,\n",
       "          [-14.3923, -14.3923, -14.3923,  ..., -14.3923, -14.3923, -14.3923],\n",
       "          [-14.3923, -14.3923, -14.3923,  ..., -14.3923, -14.3923, -14.3923],\n",
       "          [-14.3923, -14.3923, -14.3923,  ..., -14.3923, -14.3923, -14.3923]],\n",
       " \n",
       "         [[-14.3923, -14.3923, -14.3923,  ..., -14.3923, -14.3923, -14.3923],\n",
       "          [-14.3923, -14.3923, -14.3923,  ..., -14.3923, -14.3923, -14.3923],\n",
       "          [-14.3923, -14.3923, -14.3923,  ..., -14.3923, -14.3923, -14.3923],\n",
       "          ...,\n",
       "          [-14.3923, -14.3923, -14.3923,  ..., -14.3923, -14.3923, -14.3923],\n",
       "          [-14.3923, -14.3923, -14.3923,  ..., -14.3923, -14.3923, -14.3923],\n",
       "          [-14.3923, -14.3923, -14.3923,  ..., -14.3923, -14.3923, -14.3923]],\n",
       " \n",
       "         [[-14.3923, -14.3923, -14.3923,  ..., -14.3923, -14.3923, -14.3923],\n",
       "          [-14.3923, -14.3923, -14.3923,  ..., -14.3923, -14.3923, -14.3923],\n",
       "          [-14.3923, -14.3923, -14.3923,  ..., -14.3923, -14.3923, -14.3923],\n",
       "          ...,\n",
       "          [-14.3923, -14.3923, -14.3923,  ..., -14.3923, -14.3923, -14.3923],\n",
       "          [-14.3923, -14.3923, -14.3923,  ..., -14.3923, -14.3923, -14.3923],\n",
       "          [-14.3923, -14.3923, -14.3923,  ..., -14.3923, -14.3923, -14.3923]]]),\n",
       " 0)"
      ]
     },
     "execution_count": 8,
     "metadata": {},
     "output_type": "execute_result"
    }
   ],
   "source": [
    "trainset.__getitem__(1)"
   ]
  },
  {
   "cell_type": "code",
   "execution_count": 21,
   "metadata": {},
   "outputs": [],
   "source": [
    "#nn.Conv2d모듈은 입력 x를 받는 함수를 반환한다 ( 자신을 바로 부를 수 있지만 함수로 생각해도 무방)\n",
    "#모델의 학습 정의\n",
    "class CNN(nn.Module):\n",
    "    def __init__(self):\n",
    "        super(CNN, self).__init__()\n",
    "        #입력채널수 = 1, 출력 채널수 =10 ( 데이터셋이 흑백이미지로 색상 채널이 1개뿐)\n",
    "        #kernel_size로 커널 크기 지정 숫자 하나만 지정하면 정사각형으로 간주\n",
    "        self.conv1 = nn.Conv2d(3,20, 5, 1) # 20@88*88 // pool 20@44*44\n",
    "        self.conv2 = nn.Conv2d(20,40, 5, 1) # 40@40*40  // pool 400@20*20\n",
    "        self.conv3 = nn.Conv2d(40, 60, 5, 1) # 60@16*16 // pool 60@8*8\n",
    "        self.conv4 = nn.Conv2d(60, 80, 5, 1) # 80@4*4 // pool 80@2*2\n",
    "        #컨볼루션 결과로 나온 출력값에 드롭아웃 \n",
    "        self.drop = nn.Dropout2d()\n",
    "        #일반신경망\n",
    "        #위 계층의 출력값인 80*2*2를 입력 받고 \n",
    "        #최종 출력을 분류할 클래스 개수인 14개로 설정\n",
    "        self.fc1 = nn.Linear(80*2*2,80)\n",
    "        self.fc2 = nn.Linear(80,14)\n",
    "        \n",
    "    #출력까지 진행\n",
    "    def forward(self, x):\n",
    "        #두개의 각 컨볼루션 계층을 거친 후, max_pool2d 함수 거치기 / 두번째 입력은 커널 크기\n",
    "        #컨볼루션과 맥스 풀링을 통과한 x는 F.relu함수를 거친다. \n",
    "        x = F.relu(F.max_pool2d(self.conv1(x), 2))\n",
    "        x = F.relu(F.max_pool2d(self.conv2(x), 2))\n",
    "        x = F.relu(F.max_pool2d(self.conv3(x), 2))\n",
    "        x = F.relu(F.max_pool2d(self.conv4(x), 2))\n",
    "        #2차원의 특징맵을 바로 입력으로 넣을 수 없어 1차원으로 변환(축소)\n",
    "        #view()의 첫 입력 -1은 '남는 모든 차원', 80*2*2은 x가 가진 원소갯수\n",
    "        x = x.view(-1, 80*2*2)\n",
    "        #앞서 추출한 특징들을 입력으로 받아 분류하는 신경망 계층 구성( 1- ReLu활성화함수 2- 드롭아웃, 3- 0~13레이블)\n",
    "        x = F.relu(self.fc1(x))\n",
    "        x = self.drop(x)\n",
    "        x = self.fc2(x)\n",
    "        return F.log_softmax(x, dim = 1)"
   ]
  },
  {
   "cell_type": "code",
   "execution_count": 22,
   "metadata": {},
   "outputs": [],
   "source": [
    "#`to()` 함수는 모델의 파라미터들을 지정한 곳으로 보내는 역할을 한다. 일반적으로 CPU 1개만 사용할 경우 필요는 없지만, GPU를 사용하고자 하는 경우 `to(\"cuda\")`로 지정하여 GPU로 보내야 한다.\n",
    "# 최적화 알고리즘으로는 토치에 내장되어 있는 `optim.SGD`(확률적 경사하강법)와 'optim.Adam' 중 성능이 더 좋은 Adam을 최종선택 \n",
    "\n",
    "model     = CNN().to(DEVICE)\n",
    "# optimizer = optim.SGD(model.parameters(), lr=0.0001, momentum=0.5)\n",
    "optimizer = optim.Adam(model.parameters(), lr=0.001)"
   ]
  },
  {
   "cell_type": "code",
   "execution_count": 23,
   "metadata": {},
   "outputs": [],
   "source": [
    "#모델 train모드, F.corss_entropy오차 함수를 이용하여 모델 출력과 정답인 타겟값 사이 오차 계산\n",
    "#역전파 알고리즘을 실행해주는 loss.backward()함수를 이용해 기울기 계산 후, optimizer.step() 최적화 함수로 구한 기울기값으로 학습 파라미터 갱신\n",
    "\n",
    "def train(model, train_loader, optimizer, epoch):\n",
    "    model.train()\n",
    "    for batch_idx, (data, target) in enumerate(train_loader):\n",
    "        data, target = data.to(DEVICE), target.to(DEVICE)\n",
    "         #epoch마다 새로운 경사값을 계산하므로 zero_grad()함수를 호출해 경사를 0으로 설정\n",
    "        optimizer.zero_grad()\n",
    "        output = model(data)\n",
    "        loss = F.cross_entropy(output ,target)\n",
    "        loss.backward()\n",
    "        optimizer.step()\n",
    "        \n",
    "#         if epoch % 10 == 0:\n",
    "#             print('Train Epoch : {} [{}/{} ({}%)]\\t Loss :{}'.format\n",
    "#                  (epoch ,batch_idx*len(data), len(train_loader.dataset), 100.*batch_idx/len(train_loader), loss.item()))\n",
    "            "
   ]
  },
  {
   "cell_type": "code",
   "execution_count": 24,
   "metadata": {},
   "outputs": [],
   "source": [
    "#성능 확인\n",
    "\n",
    "def evaluate(model, test_loader):\n",
    "    model.eval()\n",
    "    #초기값 설정\n",
    "    test_loss = 0\n",
    "    correct = 0\n",
    "    with torch.no_grad():\n",
    "        for data, target in test_loader:\n",
    "            data, target = data.to(DEVICE), target.to(DEVICE)\n",
    "            output = model(data)\n",
    "            \n",
    "            #배치 오차 합산\n",
    "            test_loss += F.cross_entropy(output, target, reduction='sum').item()\n",
    "            \n",
    "            #가장 높은 값을 가진 인덱스가 예측값\n",
    "            pred = output.max(1, keepdim = True)[1]\n",
    "            correct += pred.eq(target.view_as(pred)).sum().item()\n",
    "            \n",
    "    test_loss /= len(test_loader.dataset)\n",
    "    test_accuracy = 100* correct / len(test_loader.dataset)\n",
    "    return test_loss, test_accuracy    "
   ]
  },
  {
   "cell_type": "code",
   "execution_count": 25,
   "metadata": {},
   "outputs": [
    {
     "name": "stdout",
     "output_type": "stream",
     "text": [
      "[1] Test LOSS : 2.2809472113239524, Accuracy : 15.612244897959183\n",
      "[2] Test LOSS : 1.4506516505260856, Accuracy : 46.02040816326531\n",
      "[3] Test LOSS : 1.057857759418536, Accuracy : 64.08163265306122\n",
      "[4] Test LOSS : 0.7795282737817615, Accuracy : 74.59183673469387\n",
      "[5] Test LOSS : 0.6200676619350834, Accuracy : 79.89795918367346\n",
      "[6] Test LOSS : 0.5615658132990167, Accuracy : 81.93877551020408\n",
      "[7] Test LOSS : 0.5864725495918701, Accuracy : 81.22448979591837\n",
      "[8] Test LOSS : 0.5994605868080707, Accuracy : 81.93877551020408\n",
      "[9] Test LOSS : 0.4289065851459392, Accuracy : 86.53061224489795\n",
      "[10] Test LOSS : 0.533777051656164, Accuracy : 84.6938775510204\n",
      "[11] Test LOSS : 0.5667596961355763, Accuracy : 85.20408163265306\n",
      "[12] Test LOSS : 0.6789012073554069, Accuracy : 85.40816326530613\n",
      "[13] Test LOSS : 0.56086130708751, Accuracy : 86.63265306122449\n",
      "[14] Test LOSS : 0.912185765363734, Accuracy : 81.12244897959184\n",
      "[15] Test LOSS : 0.6834498359079857, Accuracy : 84.6938775510204\n",
      "[16] Test LOSS : 0.6243856819738809, Accuracy : 87.04081632653062\n",
      "[17] Test LOSS : 0.7539512502808722, Accuracy : 85.10204081632654\n",
      "[18] Test LOSS : 0.6798408497707125, Accuracy : 85.51020408163265\n",
      "[19] Test LOSS : 0.5625410829118797, Accuracy : 88.57142857142857\n",
      "[20] Test LOSS : 0.9121262352260314, Accuracy : 82.24489795918367\n",
      "[21] Test LOSS : 0.6431433220636549, Accuracy : 86.12244897959184\n",
      "[22] Test LOSS : 0.6441761853445962, Accuracy : 87.24489795918367\n",
      "[23] Test LOSS : 0.5782641069030898, Accuracy : 87.55102040816327\n",
      "[24] Test LOSS : 0.8239367109538778, Accuracy : 87.04081632653062\n",
      "[25] Test LOSS : 0.7890397465804714, Accuracy : 85.40816326530613\n",
      "[26] Test LOSS : 0.7706546713101453, Accuracy : 85.20408163265306\n",
      "[27] Test LOSS : 0.7818188471849449, Accuracy : 85.71428571428571\n",
      "[28] Test LOSS : 0.7340222932835915, Accuracy : 86.63265306122449\n",
      "[29] Test LOSS : 0.8005072163377226, Accuracy : 86.22448979591837\n",
      "[30] Test LOSS : 0.8871844437164316, Accuracy : 84.28571428571429\n",
      "[31] Test LOSS : 0.694916038538672, Accuracy : 86.73469387755102\n",
      "[32] Test LOSS : 0.8186158849902166, Accuracy : 87.24489795918367\n",
      "[33] Test LOSS : 0.7786231994428057, Accuracy : 84.6938775510204\n",
      "[34] Test LOSS : 0.753392694632102, Accuracy : 86.0204081632653\n",
      "[35] Test LOSS : 0.8248995360678925, Accuracy : 87.24489795918367\n",
      "[36] Test LOSS : 0.9830662414342639, Accuracy : 84.38775510204081\n",
      "[37] Test LOSS : 0.8500607627234228, Accuracy : 85.61224489795919\n",
      "[38] Test LOSS : 1.3206096484939567, Accuracy : 84.08163265306122\n",
      "[39] Test LOSS : 1.1937864230514146, Accuracy : 82.65306122448979\n",
      "[40] Test LOSS : 0.7408415171301103, Accuracy : 86.42857142857143\n",
      "[41] Test LOSS : 1.1710759152688484, Accuracy : 83.6734693877551\n",
      "[42] Test LOSS : 0.7989818532800513, Accuracy : 86.73469387755102\n",
      "[43] Test LOSS : 0.7567941834881133, Accuracy : 87.24489795918367\n",
      "[44] Test LOSS : 1.1500274468712266, Accuracy : 83.9795918367347\n",
      "[45] Test LOSS : 1.0647016946440138, Accuracy : 86.12244897959184\n",
      "[46] Test LOSS : 0.9974221358685074, Accuracy : 86.73469387755102\n",
      "[47] Test LOSS : 0.9715252573484207, Accuracy : 86.3265306122449\n",
      "[48] Test LOSS : 1.1092617989135487, Accuracy : 84.28571428571429\n",
      "[49] Test LOSS : 0.9210938860904025, Accuracy : 86.22448979591837\n",
      "[50] Test LOSS : 1.1605599800661937, Accuracy : 78.9795918367347\n",
      "[51] Test LOSS : 1.1527835303766927, Accuracy : 87.85714285714286\n",
      "[52] Test LOSS : 0.7300368819560418, Accuracy : 86.93877551020408\n",
      "[53] Test LOSS : 1.0410725965072203, Accuracy : 86.0204081632653\n",
      "[54] Test LOSS : 1.0597983069591288, Accuracy : 86.12244897959184\n",
      "[55] Test LOSS : 0.9434357070184171, Accuracy : 86.93877551020408\n",
      "[56] Test LOSS : 1.1939771749647958, Accuracy : 82.24489795918367\n",
      "[57] Test LOSS : 1.0674408496205174, Accuracy : 85.0\n",
      "[58] Test LOSS : 0.9605099570992349, Accuracy : 86.83673469387755\n",
      "[59] Test LOSS : 1.074356545525533, Accuracy : 85.3061224489796\n",
      "[60] Test LOSS : 1.0617376126590456, Accuracy : 85.91836734693878\n",
      "[61] Test LOSS : 1.1948491396456837, Accuracy : 86.83673469387755\n",
      "[62] Test LOSS : 0.9743321446948686, Accuracy : 84.89795918367346\n",
      "[63] Test LOSS : 1.2302687753551445, Accuracy : 85.3061224489796\n",
      "[64] Test LOSS : 1.2958091395473035, Accuracy : 86.83673469387755\n",
      "[65] Test LOSS : 1.2616355314327297, Accuracy : 84.48979591836735\n",
      "[66] Test LOSS : 1.2273725398594026, Accuracy : 86.22448979591837\n",
      "[67] Test LOSS : 0.9676996127864603, Accuracy : 86.73469387755102\n",
      "[68] Test LOSS : 1.8974493887386614, Accuracy : 82.14285714285714\n",
      "[69] Test LOSS : 1.29964982840265, Accuracy : 84.48979591836735\n",
      "[70] Test LOSS : 1.2590082203795971, Accuracy : 84.89795918367346\n",
      "[71] Test LOSS : 1.0859115396779548, Accuracy : 87.04081632653062\n",
      "[72] Test LOSS : 1.1491691495534175, Accuracy : 83.6734693877551\n",
      "[73] Test LOSS : 0.9101980369243744, Accuracy : 88.06122448979592\n",
      "[74] Test LOSS : 1.1272983586351213, Accuracy : 85.10204081632654\n",
      "[75] Test LOSS : 1.3934246493565214, Accuracy : 85.0\n",
      "[76] Test LOSS : 1.0781672561798648, Accuracy : 87.14285714285714\n",
      "[77] Test LOSS : 1.058084178180737, Accuracy : 86.93877551020408\n",
      "[78] Test LOSS : 1.0359882382082661, Accuracy : 85.0\n",
      "[79] Test LOSS : 1.0902957185007764, Accuracy : 86.53061224489795\n",
      "[80] Test LOSS : 1.4244073695827095, Accuracy : 84.18367346938776\n",
      "[81] Test LOSS : 1.4301497928271596, Accuracy : 78.57142857142857\n",
      "[82] Test LOSS : 1.19507588262714, Accuracy : 86.12244897959184\n",
      "[83] Test LOSS : 1.0155070765395522, Accuracy : 84.89795918367346\n",
      "[84] Test LOSS : 1.389141032150261, Accuracy : 84.79591836734694\n",
      "[85] Test LOSS : 1.2536150012266718, Accuracy : 86.53061224489795\n",
      "[86] Test LOSS : 1.762154309808034, Accuracy : 83.87755102040816\n",
      "[87] Test LOSS : 1.1721282803501736, Accuracy : 87.04081632653062\n",
      "[88] Test LOSS : 1.1966707036527662, Accuracy : 86.63265306122449\n",
      "[89] Test LOSS : 1.4303873819414172, Accuracy : 86.93877551020408\n",
      "[90] Test LOSS : 1.527813309679352, Accuracy : 83.87755102040816\n",
      "[91] Test LOSS : 1.8275126554084131, Accuracy : 83.87755102040816\n",
      "[92] Test LOSS : 1.1884888061382985, Accuracy : 87.24489795918367\n",
      "[93] Test LOSS : 0.6983660966430856, Accuracy : 89.08163265306122\n",
      "[94] Test LOSS : 1.0967380246675538, Accuracy : 87.55102040816327\n",
      "[95] Test LOSS : 2.4602197225611, Accuracy : 85.81632653061224\n",
      "[96] Test LOSS : 1.6757582502057797, Accuracy : 81.22448979591837\n",
      "[97] Test LOSS : 1.4273556269379988, Accuracy : 82.34693877551021\n",
      "[98] Test LOSS : 1.2777098872368389, Accuracy : 84.28571428571429\n",
      "[99] Test LOSS : 1.612853030062058, Accuracy : 85.61224489795919\n",
      "[100] Test LOSS : 1.3560641512228162, Accuracy : 82.34693877551021\n"
     ]
    }
   ],
   "source": [
    "#학습\n",
    "test_loss_sum = []\n",
    "test_accuracy_sum = []\n",
    "tot_epoch = []\n",
    "\n",
    "for epoch in range(1, EPOCHS +1):\n",
    "    train(model, train_loader, optimizer, epoch)\n",
    "    test_loss, test_accuracy = evaluate(model, test_loader)\n",
    "    test_loss_sum.append(test_loss)\n",
    "    test_accuracy_sum.append(test_accuracy)\n",
    "    tot_epoch.append(epoch)\n",
    "    print('[{}] Test LOSS : {}, Accuracy : {}'.format(epoch, test_loss, test_accuracy))"
   ]
  },
  {
   "cell_type": "code",
   "execution_count": 30,
   "metadata": {},
   "outputs": [
    {
     "data": {
      "text/plain": [
       "<function matplotlib.pyplot.show(*args, **kw)>"
      ]
     },
     "execution_count": 30,
     "metadata": {},
     "output_type": "execute_result"
    },
    {
     "data": {
      "image/png": "[encoded data removed]",
      "text/plain": [
       "<Figure size 432x288 with 1 Axes>"
      ]
     },
     "metadata": {
      "needs_background": "light"
     },
     "output_type": "display_data"
    }
   ],
   "source": [
    "%matplotlib inline\n",
    "plt.title('Test Loss')\n",
    "plt.xlabel('Epoch')\n",
    "plt.ylabel('Test_loss')\n",
    "plt.plot(tot_epoch, test_loss_sum)\n",
    "plt.show"
   ]
  },
  {
   "cell_type": "code",
   "execution_count": 31,
   "metadata": {},
   "outputs": [
    {
     "data": {
      "text/plain": [
       "<function matplotlib.pyplot.show(*args, **kw)>"
      ]
     },
     "execution_count": 31,
     "metadata": {},
     "output_type": "execute_result"
    },
    {
     "data": {
      "image/png": "[encoded data removed]",
      "text/plain": [
       "<Figure size 432x288 with 1 Axes>"
      ]
     },
     "metadata": {
      "needs_background": "light"
     },
     "output_type": "display_data"
    }
   ],
   "source": [
    "plt.title('Test_Accuracy')\n",
    "plt.xlabel('Epoch')\n",
    "plt.ylabel('Accuracy')\n",
    "plt.plot(tot_epoch,test_accuracy_sum)\n",
    "plt.show"
   ]
  },
  {
   "cell_type": "code",
   "execution_count": 32,
   "metadata": {},
   "outputs": [],
   "source": [
    "#실제 성능 테스트\n",
    "#학습 정확도가 86퍼센트로 처음 33퍼센트에 비해 53퍼나 향상되었음.\n",
    "#테스트 셋의 이미지를 통해 실제로 예측을 어느정도하는지 확인 \n",
    "\n",
    "#토치 데이터셋에서 unnormalize, numpy배열로 변환을 하여 이미지 출력을 할 수 있게\n",
    "#imshow 함수와 tesor(0~13)으로 되어있는 정답 레이블을 표현할 수 있게 classes 정의 \n",
    "def imshow(img):\n",
    "    img = img + 0.9758     # unnormalize\n",
    "    npimg = img.numpy()\n",
    "    plt.imshow(np.transpose(npimg, (1, 2, 0)))\n",
    "    \n",
    "classes = ('AC00: 가', 'B2E4 : 다', 'B9C8 : 마', 'B77C : 라', 'B098 : 나', 'BC14 : 바','C0AC : 사', 'C544 : 아', 'C790 : 자',  \n",
    "          'CC28 : 차', 'CE74 : 카', 'D0C0 : 타',  'D30C : 파', 'D558 : 하' )"
   ]
  },
  {
   "cell_type": "code",
   "execution_count": 33,
   "metadata": {},
   "outputs": [
    {
     "name": "stderr",
     "output_type": "stream",
     "text": [
      "Clipping input data to the valid range for imshow with RGB data ([0..1] for floats or [0..255] for integers).\n"
     ]
    },
    {
     "name": "stdout",
     "output_type": "stream",
     "text": [
      "C0AC : 사 / D30C : 파 / D558 : 하 / CC28 : 차\n"
     ]
    },
    {
     "data": {
      "image/png": "[encoded data removed]",
      "text/plain": [
       "<Figure size 432x288 with 1 Axes>"
      ]
     },
     "metadata": {
      "needs_background": "light"
     },
     "output_type": "display_data"
    }
   ],
   "source": [
    "#테스트 데이터에서 무작위 1배치 추출하여\n",
    "#정답과 이미지 출력\n",
    "dataiter = iter(test_loader)\n",
    "images, labels = dataiter.next()\n",
    "\n",
    "imshow(torchvision.utils.make_grid(images))\n",
    "print(' / '.join('%5s' % classes[labels[j]] for j in range(4)))\n",
    "plt.show()"
   ]
  },
  {
   "cell_type": "code",
   "execution_count": 34,
   "metadata": {},
   "outputs": [
    {
     "name": "stdout",
     "output_type": "stream",
     "text": [
      "Predicted:  C0AC : 사 / D30C : 파 / D558 : 하 / CC28 : 차\n"
     ]
    }
   ],
   "source": [
    "#에측결과\n",
    "outputs = model(images)\n",
    "\n",
    "_, predicted = torch.max(outputs, 1)\n",
    "\n",
    "print('Predicted: ', ' / '.join('%5s' % classes[predicted[j]] for j in range(4)))"
   ]
  }
 ],
 "metadata": {
  "kernelspec": {
   "display_name": "Python 3",
   "language": "python",
   "name": "python3"
  },
  "language_info": {
   "codemirror_mode": {
    "name": "ipython",
    "version": 3
   },
   "file_extension": ".py",
   "mimetype": "text/x-python",
   "name": "python",
   "nbconvert_exporter": "python",
   "pygments_lexer": "ipython3",
   "version": "3.8.1"
  }
 },
 "nbformat": 4,
 "nbformat_minor": 4
}
